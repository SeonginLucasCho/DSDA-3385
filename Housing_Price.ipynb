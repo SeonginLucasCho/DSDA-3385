{
  "cells": [
    {
      "cell_type": "code",
      "execution_count": 193,
      "metadata": {
        "id": "q16ic3e0iw_K"
      },
      "outputs": [],
      "source": [
        "from IPython import get_ipython\n",
        "from IPython.display import display"
      ]
    },
    {
      "cell_type": "code",
      "execution_count": 194,
      "metadata": {
        "id": "Ti01dyzvcfOH"
      },
      "outputs": [],
      "source": [
        "%matplotlib inline\n",
        "import pandas as pd\n",
        "import torch\n",
        "from torch import nn"
      ]
    },
    {
      "cell_type": "code",
      "execution_count": 195,
      "metadata": {
        "colab": {
          "base_uri": "https://localhost:8080/"
        },
        "id": "ZGAyCUJ0fI67",
        "outputId": "03ca85ad-f9c8-4a10-d893-74ef580adf28"
      },
      "outputs": [
        {
          "output_type": "stream",
          "name": "stdout",
          "text": [
            "torch.Size([1460, 79])\n"
          ]
        }
      ],
      "source": [
        "class KaggleHouse(torch.utils.data.Dataset):\n",
        "    def __init__(self, batch_size, train=None, val=None):\n",
        "        super().__init__()\n",
        "        self.batch_size = batch_size\n",
        "        if train is None:\n",
        "            self.raw_train = pd.read_csv('train.csv')\n",
        "            self.raw_val = pd.read_csv('test.csv')\n",
        "\n",
        "    def preprocess(self):\n",
        "        label = 'SalePrice'\n",
        "        features = pd.concat(\n",
        "            (self.raw_train.drop(columns=['Id', label]),\n",
        "             self.raw_val.drop(columns=['Id'])))\n",
        "\n",
        "        features = features.apply(pd.to_numeric, errors='coerce')\n",
        "\n",
        "        numeric_features = features.dtypes[features.dtypes != 'object'].index\n",
        "        features[numeric_features] = features[numeric_features].apply(\n",
        "            lambda x: (x - x.mean()) / x.std())\n",
        "\n",
        "        features = features.fillna(0)\n",
        "        features = pd.get_dummies(features, dummy_na=True)\n",
        "\n",
        "        self.train = torch.tensor(features[:self.raw_train.shape[0]].values, dtype=torch.float32)\n",
        "        self.val = torch.tensor(features[self.raw_train.shape[0]:].values, dtype=torch.float32)\n",
        "        self.y_train = torch.tensor(self.raw_train[label].values.reshape(-1, 1), dtype=torch.float32)\n",
        "\n",
        "    def get_tensorloader(self, tensors, train):\n",
        "          # Create a DataLoader from the tensors (customize as needed)\n",
        "          from torch.utils.data import DataLoader, TensorDataset\n",
        "\n",
        "          dataset = TensorDataset(*tensors)  # Create a dataset from tensors\n",
        "          return DataLoader(dataset, batch_size=self.batch_size, shuffle=train)  # Create DataLoader\n",
        "\n",
        "    def get_dataloader(self, train):\n",
        "        return self.get_tensorloader([self.train, self.y_train] if train else [self.val], train)\n",
        "\n",
        "# Run the class definition\n",
        "data = KaggleHouse(batch_size=64)\n",
        "data.preprocess()\n",
        "print(data.train.shape)  # Check the shape of the training data\n"
      ]
    },
    {
      "cell_type": "code",
      "execution_count": 196,
      "metadata": {
        "colab": {
          "base_uri": "https://localhost:8080/"
        },
        "id": "5QPx0ARxmueV",
        "outputId": "61c43567-4d9a-46a5-d3bf-00a480ab848d"
      },
      "outputs": [
        {
          "output_type": "stream",
          "name": "stdout",
          "text": [
            "   Id  MSSubClass MSZoning  LotFrontage SaleType SaleCondition  SalePrice\n",
            "0   1          60       RL         65.0       WD        Normal     208500\n",
            "1   2          20       RL         80.0       WD        Normal     181500\n",
            "2   3          60       RL         68.0       WD        Normal     223500\n",
            "3   4          70       RL         60.0       WD       Abnorml     140000\n"
          ]
        }
      ],
      "source": [
        "print(data.raw_train.iloc[:4, [0, 1, 2, 3, -3, -2, -1]])"
      ]
    },
    {
      "cell_type": "code",
      "execution_count": 198,
      "metadata": {
        "colab": {
          "base_uri": "https://localhost:8080/"
        },
        "id": "NbbnDMIcj5nx",
        "outputId": "c6c2b0c0-3366-4366-81ff-29df328962a4"
      },
      "outputs": [
        {
          "output_type": "execute_result",
          "data": {
            "text/plain": [
              "torch.Size([1460, 79])"
            ]
          },
          "metadata": {},
          "execution_count": 198
        }
      ],
      "source": [
        "data.preprocess()\n",
        "data.train.shape"
      ]
    },
    {
      "cell_type": "code",
      "execution_count": 200,
      "metadata": {
        "id": "1AnICRJzp2g2"
      },
      "outputs": [],
      "source": [
        "train_dataloader = data.get_dataloader(train=True)\n",
        "test_dataloader = data.get_dataloader(train=False)"
      ]
    },
    {
      "cell_type": "code",
      "execution_count": 201,
      "metadata": {
        "colab": {
          "base_uri": "https://localhost:8080/"
        },
        "id": "C3_q7l_NrAuO",
        "outputId": "c28cd895-85af-4739-a8fa-7410fd719ee9"
      },
      "outputs": [
        {
          "output_type": "stream",
          "name": "stdout",
          "text": [
            "Shape of X: torch.Size([64, 79]), Shape of y: torch.Size([64, 1])\n"
          ]
        }
      ],
      "source": [
        "# Example of iterating over the training DataLoader\n",
        "for X, y in train_dataloader:\n",
        "    print(f\"Shape of X: {X.shape}, Shape of y: {y.shape}\")\n",
        "    break  # Just to show the first batch\n"
      ]
    },
    {
      "cell_type": "code",
      "execution_count": 229,
      "metadata": {
        "colab": {
          "base_uri": "https://localhost:8080/"
        },
        "id": "UFvlsAdjqoEb",
        "outputId": "78de0ac5-e678-4a7a-f64e-0b529160b14f"
      },
      "outputs": [
        {
          "output_type": "stream",
          "name": "stdout",
          "text": [
            "MLP(\n",
            "  (layers): Sequential(\n",
            "    (0): Linear(in_features=79, out_features=1024, bias=True)\n",
            "    (1): ReLU()\n",
            "    (2): Linear(in_features=1024, out_features=512, bias=True)\n",
            "    (3): ReLU()\n",
            "    (4): Linear(in_features=512, out_features=128, bias=True)\n",
            "    (5): ReLU()\n",
            "    (6): Linear(in_features=128, out_features=1, bias=True)\n",
            "  )\n",
            ")\n"
          ]
        }
      ],
      "source": [
        "# Setting the Device\n",
        "device = torch.device(\"cuda\" if torch.cuda.is_available() else \"cpu\")\n",
        "\n",
        "# Defining the MLP Class\n",
        "class MLP(nn.Module):\n",
        "    def __init__(self):\n",
        "        super(MLP, self).__init__()\n",
        "        self.layers = nn.Sequential(\n",
        "            nn.Linear(79, 1024),\n",
        "            nn.ReLU(),\n",
        "            nn.Linear(1024, 512),\n",
        "            nn.ReLU(),\n",
        "            nn.Linear(512, 128),\n",
        "            nn.ReLU(),\n",
        "            nn.Linear(128, 1)\n",
        "        )\n",
        "\n",
        "    # Forward Pass Definition\n",
        "    def forward(self, x):\n",
        "        return self.layers(x)\n",
        "\n",
        "# Instantiating the Model\n",
        "model = MLP().to(device)\n",
        "print(model)\n"
      ]
    },
    {
      "cell_type": "code",
      "execution_count": 230,
      "metadata": {
        "id": "YkXyPzeir5OM"
      },
      "outputs": [],
      "source": [
        "criterion = nn.MSELoss()\n",
        "optimizer = torch.optim.Adam(model.parameters())"
      ]
    },
    {
      "cell_type": "code",
      "execution_count": 233,
      "metadata": {
        "id": "tw5U6912zQW8"
      },
      "outputs": [],
      "source": [
        "def train(data_loader, model, criterion, optimizer):\n",
        "    model.train()\n",
        "    total_loss = 0\n",
        "\n",
        "    for data, target in data_loader:\n",
        "        # Move data and target to device\n",
        "        data = data.to(device)\n",
        "        target = target.to(device)\n",
        "\n",
        "        # Reshape input data\n",
        "        data = data.view(data.size(0), -1)\n",
        "\n",
        "        # Forward pass\n",
        "        output = model(data).view(-1)  # Ensure output is 1D\n",
        "\n",
        "        # Calculate the loss\n",
        "        loss = criterion(output, target)\n",
        "        total_loss += loss.item()\n",
        "\n",
        "        # Backpropagation\n",
        "        optimizer.zero_grad()\n",
        "        loss.backward()\n",
        "        optimizer.step()\n",
        "\n",
        "    avg_loss = total_loss / len(data_loader)\n",
        "    print(f\"Average loss: {avg_loss:.7f}\")\n"
      ]
    },
    {
      "cell_type": "code",
      "execution_count": 234,
      "metadata": {
        "colab": {
          "base_uri": "https://localhost:8080/"
        },
        "id": "OWR2Eafgr_wE",
        "outputId": "fd66a926-7852-490a-993f-834fbcfbfcaa"
      },
      "outputs": [
        {
          "output_type": "stream",
          "name": "stdout",
          "text": [
            "Training epoch: 1\n",
            "Average loss: 38725168706.7826080\n",
            "Training epoch: 2\n",
            "Average loss: 36813782416.6956558\n",
            "Training epoch: 3\n",
            "Average loss: 29954585243.8260880\n",
            "Training epoch: 4\n",
            "Average loss: 18006215368.3478279\n",
            "Training epoch: 5\n",
            "Average loss: 12278920815.3043480\n",
            "Training epoch: 6\n",
            "Average loss: 10692622157.9130440\n",
            "Training epoch: 7\n",
            "Average loss: 9700371589.5652180\n"
          ]
        }
      ],
      "source": [
        "epochs = 7\n",
        "for epoch in range(epochs):\n",
        "    print(f\"Training epoch: {epoch + 1}\")\n",
        "    train(train_dataloader, model, criterion, optimizer)"
      ]
    }
  ],
  "metadata": {
    "colab": {
      "provenance": []
    },
    "kernelspec": {
      "display_name": "Python 3",
      "name": "python3"
    },
    "language_info": {
      "name": "python"
    }
  },
  "nbformat": 4,
  "nbformat_minor": 0
}